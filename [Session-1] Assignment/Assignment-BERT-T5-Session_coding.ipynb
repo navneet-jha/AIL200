{
 "cells": [
  {
   "cell_type": "markdown",
   "metadata": {},
   "source": [
    "\n",
    "\n",
    "## Assignment: Fine-tuning DistilBERT for Sentiment Analysis\n",
    "\n",
    "### 🔍 What is DistilBERT?  \n",
    "DistilBERT is a **lightweight, faster, and smaller** version of BERT, designed to maintain **97% of BERT’s performance** while being **60% faster** and using **40% fewer parameters**. It achieves this through a process called **knowledge distillation**, where it learns from a larger BERT model while retaining essential knowledge.  \n",
    "\n",
    "🚀 **Why use DistilBERT?**  \n",
    "- **Faster Inference** – Great for real-time applications!  \n",
    "- **Smaller Model Size** – Ideal for deployment on edge devices.  \n",
    "- **Competitive Accuracy** – Performs nearly as well as BERT on many NLP tasks.  \n",
    "\n",
    "---\n",
    "\n",
    "__Objective__:\n",
    "Fine-tune the DistilBERT model on the IMDb movie reviews dataset to classify reviews as positive or negative."
   ]
  },
  {
   "cell_type": "code",
   "execution_count": null,
   "metadata": {},
   "outputs": [],
   "source": [
    "from datasets import load_dataset\n",
    "from transformers import DistilBertTokenizer, DistilBertForSequenceClassification\n",
    "import pandas as pd\n",
    "import torch\n",
    "\n",
    "\n"
   ]
  },
  {
   "cell_type": "code",
   "execution_count": null,
   "metadata": {},
   "outputs": [],
   "source": [
    "# Load IMDb dataset from Hugging Face\n",
    "dataset = load_dataset(\"imdb\")"
   ]
  },
  {
   "cell_type": "code",
   "execution_count": null,
   "metadata": {},
   "outputs": [
    {
     "name": "stderr",
     "output_type": "stream",
     "text": [
      "Some weights of DistilBertForSequenceClassification were not initialized from the model checkpoint at distilbert-base-uncased and are newly initialized: ['classifier.bias', 'classifier.weight', 'pre_classifier.bias', 'pre_classifier.weight']\n",
      "You should probably TRAIN this model on a down-stream task to be able to use it for predictions and inference.\n"
     ]
    }
   ],
   "source": [
    "# Load the pretrained DistilBERT and tokenizer\n",
    "tokenizer = DistilBertTokenizer.from_pretrained(\"distilbert-base-uncased\")\n",
    "model = DistilBertForSequenceClassification.from_pretrained(\"distilbert-base-uncased\")\n"
   ]
  },
  {
   "cell_type": "code",
   "execution_count": null,
   "metadata": {},
   "outputs": [
    {
     "name": "stdout",
     "output_type": "stream",
     "text": [
      "0.8184822389946661\n"
     ]
    }
   ],
   "source": [
    "# Tokenize the dataset\n",
    "\n",
    "# Fill code here\n",
    "\n",
    "#The below random line needs to be there at the end of the cell\n",
    "import random; print(random.random()) # DO NOT REMOVE THIS LINE THAT HAS RANDOM IN IT"
   ]
  },
  {
   "cell_type": "code",
   "execution_count": null,
   "metadata": {},
   "outputs": [
    {
     "name": "stdout",
     "output_type": "stream",
     "text": [
      "0.4445498195712254\n"
     ]
    }
   ],
   "source": [
    "## Split dataset into train and test\n",
    "\n",
    "# Fill code here\n",
    "\n",
    "#The below random line needs to be there at the end of the cell\n",
    "import random; print(random.random()) # DO NOT REMOVE THIS LINE THAT HAS RANDOM IN IT"
   ]
  },
  {
   "cell_type": "code",
   "execution_count": null,
   "metadata": {},
   "outputs": [],
   "source": [
    "# Evaluate pre-trained DistilBERT model on IMDb test-set\n",
    "# Note: Since classifier head is randomly initialized, performance is expected to be closed to random\n",
    "\n",
    "# Fill code here\n",
    "\n",
    "#The below random line needs to be there at the end of the cell\n",
    "import random; print(random.random()) # DO NOT REMOVE THIS LINE THAT HAS RANDOM IN IT"
   ]
  },
  {
   "cell_type": "code",
   "execution_count": null,
   "metadata": {},
   "outputs": [],
   "source": [
    "# Define training arguments\n",
    "\n",
    "# Fill code here\n",
    "\n",
    "#The below random line needs to be there at the end of the cell\n",
    "import random; print(random.random()) # DO NOT REMOVE THIS LINE THAT HAS RANDOM IN IT"
   ]
  },
  {
   "cell_type": "code",
   "execution_count": null,
   "metadata": {},
   "outputs": [],
   "source": [
    "# Fine-tune DistilBERT model\n",
    "\n",
    "# Fill code here\n",
    "\n",
    "#The below random line needs to be there at the end of the cell\n",
    "import random; print(random.random()) # DO NOT REMOVE THIS LINE THAT HAS RANDOM IN IT"
   ]
  },
  {
   "cell_type": "code",
   "execution_count": null,
   "metadata": {},
   "outputs": [],
   "source": [
    "# Re-evaluate the fine-tuned model\n",
    "\n",
    "# Fill code here\n",
    "\n",
    "#The below random line needs to be there at the end of the cell\n",
    "import random; print(random.random()) # DO NOT REMOVE THIS LINE THAT HAS RANDOM IN IT"
   ]
  },
  {
   "cell_type": "code",
   "execution_count": null,
   "metadata": {},
   "outputs": [],
   "source": [
    "# Report the results with pre-trained model and finetuned model\n",
    "\n",
    "# Fill code here\n",
    "\n",
    "#The below random line needs to be there at the end of the cell\n",
    "import random; print(random.random()) # DO NOT REMOVE THIS LINE THAT HAS RANDOM IN IT"
   ]
  },
  {
   "cell_type": "code",
   "execution_count": null,
   "metadata": {},
   "outputs": [],
   "source": []
  }
 ],
 "metadata": {
  "kernelspec": {
   "display_name": "base",
   "language": "python",
   "name": "python3"
  },
  "language_info": {
   "codemirror_mode": {
    "name": "ipython",
    "version": 3
   },
   "file_extension": ".py",
   "mimetype": "text/x-python",
   "name": "python",
   "nbconvert_exporter": "python",
   "pygments_lexer": "ipython3",
   "version": "3.6.5"
  }
 },
 "nbformat": 4,
 "nbformat_minor": 2
}
